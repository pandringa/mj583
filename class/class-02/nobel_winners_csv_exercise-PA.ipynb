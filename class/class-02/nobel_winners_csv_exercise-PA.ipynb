{
 "cells": [
  {
   "cell_type": "code",
   "execution_count": 5,
   "metadata": {},
   "outputs": [],
   "source": [
    "from os import mkdir\n",
    "try:\n",
    "    mkdir('data')\n",
    "except FileExistsError:\n",
    "    pass"
   ]
  },
  {
   "cell_type": "code",
   "execution_count": 6,
   "metadata": {},
   "outputs": [],
   "source": [
    "nobel_winners = [\n",
    "{'category': 'Physiology or Medicine',\n",
    "  'name': 'César Milstein',\n",
    "  'nationality': 'Argentina',\n",
    "  'sex': 'male',\n",
    "  'year': 1984},\n",
    " {'category': 'Literature',\n",
    "  'name': 'Ivo Andric *',\n",
    "  'nationality': '',\n",
    "  'sex': 'male',\n",
    "  'year': 1961},\n",
    " {'category': 'Chemistry',\n",
    "  'name': 'Vladimir Prelog *',\n",
    "  'nationality': '',\n",
    "  'sex': 'male',\n",
    "  'year': 1975},\n",
    " {'category': 'Peace',\n",
    "  'name': 'Institut de Droit International',\n",
    "  'nationality': 'Belgium',\n",
    "  'sex': None,\n",
    "  'year': 1904}\n",
    "  ]\n"
   ]
  },
  {
   "cell_type": "code",
   "execution_count": 7,
   "metadata": {},
   "outputs": [],
   "source": [
    "import csv\n",
    "with open(\"data/nobel.csv\", \"w\") as file:\n",
    "    writer = csv.DictWriter(file, fieldnames=nobel_winners[0].keys())\n",
    "    writer.writeheader()\n",
    "    for winner in nobel_winners:\n",
    "        writer.writerow(winner)"
   ]
  },
  {
   "cell_type": "code",
   "execution_count": 8,
   "metadata": {},
   "outputs": [],
   "source": [
    "import csv\n",
    "import json\n",
    "with open(\"data/nobel.csv\", \"r\") as nobelcsv:\n",
    "    nobel_data = [row for row in csv.DictReader(nobelcsv)]\n",
    "with open(\"data/nobel.json\", \"w\") as nobeljson:\n",
    "    json.dump(nobel_data, nobeljson)"
   ]
  },
  {
   "cell_type": "code",
   "execution_count": null,
   "metadata": {},
   "outputs": [],
   "source": []
  }
 ],
 "metadata": {
  "kernelspec": {
   "display_name": "Python 3",
   "language": "python",
   "name": "python3"
  },
  "language_info": {
   "codemirror_mode": {
    "name": "ipython",
    "version": 3
   },
   "file_extension": ".py",
   "mimetype": "text/x-python",
   "name": "python",
   "nbconvert_exporter": "python",
   "pygments_lexer": "ipython3",
   "version": "3.6.3"
  }
 },
 "nbformat": 4,
 "nbformat_minor": 2
}
